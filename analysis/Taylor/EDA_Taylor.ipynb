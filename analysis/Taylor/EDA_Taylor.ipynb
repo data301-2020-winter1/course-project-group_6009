{
 "cells": [
  {
   "cell_type": "code",
   "execution_count": 2,
   "metadata": {},
   "outputs": [
    {
     "data": {
      "text/html": [
       "<div>\n",
       "<style scoped>\n",
       "    .dataframe tbody tr th:only-of-type {\n",
       "        vertical-align: middle;\n",
       "    }\n",
       "\n",
       "    .dataframe tbody tr th {\n",
       "        vertical-align: top;\n",
       "    }\n",
       "\n",
       "    .dataframe thead th {\n",
       "        text-align: right;\n",
       "    }\n",
       "</style>\n",
       "<table border=\"1\" class=\"dataframe\">\n",
       "  <thead>\n",
       "    <tr style=\"text-align: right;\">\n",
       "      <th></th>\n",
       "      <th>Date</th>\n",
       "      <th>Open</th>\n",
       "      <th>High</th>\n",
       "      <th>Low</th>\n",
       "      <th>Close</th>\n",
       "      <th>Adj Close</th>\n",
       "      <th>Volume</th>\n",
       "    </tr>\n",
       "  </thead>\n",
       "  <tbody>\n",
       "    <tr>\n",
       "      <th>9818</th>\n",
       "      <td>2019-11-19</td>\n",
       "      <td>267.899994</td>\n",
       "      <td>268.000000</td>\n",
       "      <td>265.390015</td>\n",
       "      <td>266.290009</td>\n",
       "      <td>266.290009</td>\n",
       "      <td>19041800.0</td>\n",
       "    </tr>\n",
       "    <tr>\n",
       "      <th>9819</th>\n",
       "      <td>2019-11-20</td>\n",
       "      <td>265.540009</td>\n",
       "      <td>266.079987</td>\n",
       "      <td>260.399994</td>\n",
       "      <td>263.190002</td>\n",
       "      <td>263.190002</td>\n",
       "      <td>26558600.0</td>\n",
       "    </tr>\n",
       "    <tr>\n",
       "      <th>9820</th>\n",
       "      <td>2019-11-21</td>\n",
       "      <td>263.690002</td>\n",
       "      <td>264.010010</td>\n",
       "      <td>261.179993</td>\n",
       "      <td>262.010010</td>\n",
       "      <td>262.010010</td>\n",
       "      <td>30348800.0</td>\n",
       "    </tr>\n",
       "    <tr>\n",
       "      <th>9821</th>\n",
       "      <td>2019-11-22</td>\n",
       "      <td>262.589996</td>\n",
       "      <td>263.179993</td>\n",
       "      <td>260.839996</td>\n",
       "      <td>261.779999</td>\n",
       "      <td>261.779999</td>\n",
       "      <td>16331300.0</td>\n",
       "    </tr>\n",
       "    <tr>\n",
       "      <th>9822</th>\n",
       "      <td>2019-11-25</td>\n",
       "      <td>262.709991</td>\n",
       "      <td>266.440002</td>\n",
       "      <td>262.519989</td>\n",
       "      <td>266.369995</td>\n",
       "      <td>266.369995</td>\n",
       "      <td>21005100.0</td>\n",
       "    </tr>\n",
       "  </tbody>\n",
       "</table>\n",
       "</div>"
      ],
      "text/plain": [
       "            Date        Open        High         Low       Close   Adj Close  \\\n",
       "9818  2019-11-19  267.899994  268.000000  265.390015  266.290009  266.290009   \n",
       "9819  2019-11-20  265.540009  266.079987  260.399994  263.190002  263.190002   \n",
       "9820  2019-11-21  263.690002  264.010010  261.179993  262.010010  262.010010   \n",
       "9821  2019-11-22  262.589996  263.179993  260.839996  261.779999  261.779999   \n",
       "9822  2019-11-25  262.709991  266.440002  262.519989  266.369995  266.369995   \n",
       "\n",
       "          Volume  \n",
       "9818  19041800.0  \n",
       "9819  26558600.0  \n",
       "9820  30348800.0  \n",
       "9821  16331300.0  \n",
       "9822  21005100.0  "
      ]
     },
     "execution_count": 2,
     "metadata": {},
     "output_type": "execute_result"
    }
   ],
   "source": [
    "import pandas as pd\n",
    "import numpy as np\n",
    "import seaborn as sns\n",
    "import matplotlib.pyplot as plt\n",
    "import matplotlib.dates as mdates\n",
    "plt.style.use('bmh')\n",
    "\n",
    "\n",
    "df = pd.read_csv(\"../../data/raw/AAPL.csv\")\n",
    "df.tail()\n",
    "\n"
   ]
  },
  {
   "cell_type": "code",
   "execution_count": null,
   "metadata": {},
   "outputs": [],
   "source": []
  },
  {
   "cell_type": "code",
   "execution_count": null,
   "metadata": {},
   "outputs": [],
   "source": [
    "#Dropping all columns other than 'Date' & 'Time' to allow for a more clear visualization that could be used to analyze daily high"
   ]
  },
  {
   "cell_type": "code",
   "execution_count": 3,
   "metadata": {},
   "outputs": [
    {
     "data": {
      "text/html": [
       "<div>\n",
       "<style scoped>\n",
       "    .dataframe tbody tr th:only-of-type {\n",
       "        vertical-align: middle;\n",
       "    }\n",
       "\n",
       "    .dataframe tbody tr th {\n",
       "        vertical-align: top;\n",
       "    }\n",
       "\n",
       "    .dataframe thead th {\n",
       "        text-align: right;\n",
       "    }\n",
       "</style>\n",
       "<table border=\"1\" class=\"dataframe\">\n",
       "  <thead>\n",
       "    <tr style=\"text-align: right;\">\n",
       "      <th></th>\n",
       "      <th>Date</th>\n",
       "      <th>High</th>\n",
       "    </tr>\n",
       "  </thead>\n",
       "  <tbody>\n",
       "    <tr>\n",
       "      <th>9818</th>\n",
       "      <td>2019-11-19</td>\n",
       "      <td>268.000000</td>\n",
       "    </tr>\n",
       "    <tr>\n",
       "      <th>9819</th>\n",
       "      <td>2019-11-20</td>\n",
       "      <td>266.079987</td>\n",
       "    </tr>\n",
       "    <tr>\n",
       "      <th>9820</th>\n",
       "      <td>2019-11-21</td>\n",
       "      <td>264.010010</td>\n",
       "    </tr>\n",
       "    <tr>\n",
       "      <th>9821</th>\n",
       "      <td>2019-11-22</td>\n",
       "      <td>263.179993</td>\n",
       "    </tr>\n",
       "    <tr>\n",
       "      <th>9822</th>\n",
       "      <td>2019-11-25</td>\n",
       "      <td>266.440002</td>\n",
       "    </tr>\n",
       "  </tbody>\n",
       "</table>\n",
       "</div>"
      ],
      "text/plain": [
       "            Date        High\n",
       "9818  2019-11-19  268.000000\n",
       "9819  2019-11-20  266.079987\n",
       "9820  2019-11-21  264.010010\n",
       "9821  2019-11-22  263.179993\n",
       "9822  2019-11-25  266.440002"
      ]
     },
     "execution_count": 3,
     "metadata": {},
     "output_type": "execute_result"
    }
   ],
   "source": [
    "df.drop(columns=['Open', 'Low', 'Close', 'Adj Close', 'Volume'], inplace = True)\n",
    "df.tail()"
   ]
  },
  {
   "cell_type": "code",
   "execution_count": 6,
   "metadata": {},
   "outputs": [
    {
     "data": {
      "image/png": "[encoded data removed]",
      "text/plain": [
       "<Figure size 1440x360 with 1 Axes>"
      ]
     },
     "metadata": {
      "needs_background": "light"
     },
     "output_type": "display_data"
    }
   ],
   "source": [
    "#A VISUALIZATION OF THE DAILY STOCK PRICE HIGH\n",
    "\n",
    "plt.figure(figsize=(20,5))\n",
    "plt.title('Daily High History')\n",
    "plt.plot(df['High'])\n",
    "plt.xlabel('Date', fontsize = 15)\n",
    "plt.ylabel('Daily High', fontsize =15)\n",
    "plt.show()"
   ]
  },
  {
   "cell_type": "code",
   "execution_count": null,
   "metadata": {},
   "outputs": [],
   "source": [
    "##Our research question - (can we predict the stock price in 2020 through using the stock price from 1980-2019) is extremely important as the analysis and visualizatios can be very useful to potential investors. These trends show that it is a great investment as it is generallly constantly increasing."
   ]
  }
 ],
 "metadata": {
  "kernelspec": {
   "display_name": "Python 3",
   "language": "python",
   "name": "python3"
  },
  "language_info": {
   "codemirror_mode": {
    "name": "ipython",
    "version": 3
   },
   "file_extension": ".py",
   "mimetype": "text/x-python",
   "name": "python",
   "nbconvert_exporter": "python",
   "pygments_lexer": "ipython3",
   "version": "3.8.3"
  }
 },
 "nbformat": 4,
 "nbformat_minor": 4
}
