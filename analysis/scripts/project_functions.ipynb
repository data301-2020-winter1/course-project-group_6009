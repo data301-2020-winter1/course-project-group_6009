{
 "cells": [
  {
   "cell_type": "code",
   "execution_count": 2,
   "metadata": {},
   "outputs": [],
   "source": [
    "import pandas as pd\n",
    "import seaborn as sns\n",
    "#Returns the top 20 values, parse the NA values out and the irrelevent columns related to our study.Sorted by descending from highest-lowest.\n",
    "# \"../../data/raw/AAPL.csv\"\n",
    "\n",
    "#Created by Mark Behnke\n",
    "def wrangleDate(csvPath):\n",
    "\n",
    "    df = pd.read_csv(csvPath).drop(columns=['Open','Close', 'Adj Close', 'Volume']).dropna().sort_values(\"High\", ascending = False)\n",
    "    return df"
   ]
  },
  {
   "cell_type": "code",
   "execution_count": null,
   "metadata": {},
   "outputs": [],
   "source": [
    "import pandas as pd\n",
    "import seaborn as sns\n",
    "\n",
    "csvPath = \"../../data/raw/AAPL.csv\"\n",
    "\n",
    "\n",
    "def EDA(csvPath):\n",
    "    df = pd.read_csv(\"csvPath\").drop(columns=['Open', 'High', 'Low', 'Adj Close', 'Volume'], implace = True).dropna(inplace=True).isnull().sum()\n",
    "    \n",
    "    return df\n"
   ]
  }
 ],
 "metadata": {
  "kernelspec": {
   "display_name": "Python 3",
   "language": "python",
   "name": "python3"
  },
  "language_info": {
   "codemirror_mode": {
    "name": "ipython",
    "version": 3
   },
   "file_extension": ".py",
   "mimetype": "text/x-python",
   "name": "python",
   "nbconvert_exporter": "python",
   "pygments_lexer": "ipython3",
   "version": "3.7.4"
  }
 },
 "nbformat": 4,
 "nbformat_minor": 4
}
